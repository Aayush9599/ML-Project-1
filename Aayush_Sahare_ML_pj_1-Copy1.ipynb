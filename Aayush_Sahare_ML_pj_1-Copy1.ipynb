{
 "cells": [

  {
   "cell_type": "markdown",
   "metadata": {
    "id": "QY2xCOTe13Hz"
   },
   "source": [
    "### Predicting the number of likes on Instagram using Regression Techniques\n",
    "\n",
    "One billion people use Instagram every month, which makes it one of the most popular social networks worldwide.\n",
    "Currently, there is an enormous scope market with the potential to be optimized to increase Instagram posts popularity and engagement.\n",
    "\n",
    "Ref: https://upcommons.upc.edu/bitstream/handle/2117/339937/152579.pdf?sequence=1&isAllowed=y\n"
   ]
  },
  {
   "cell_type": "markdown",
   "metadata": {
    "id": "UAOJcA4-13Hz"
   },
   "source": [
    "---\n",
    "### The Instagram Users Datetime Posts Dataset   \n",
    "We explore the Instagram Users Datetime Posts dataset, which contains info of 1089 users' posts.\n",
    "\n",
    "The dataset can estimate the number of likes/likes scores given a post based on different features such as the time and date of the post, type of the post, number of tags, numbers of comments, or how many days the post has been posted.\n",
    "\n",
    "--\n",
    "### Objective:\n",
    "#### Estimate the number of likes based on number of tags, numbers of comments, or days passed from post.\n",
    "---\n",
    "\n",
    "\n",
    "### Dataset:\n",
    "you can find the dataset on Canvas under Dataset section: Instagram_Data"
   ]
  },
  {
   "cell_type": "markdown",
   "metadata": {
    "id": "QGRL6Z8j13H0"
   },
   "source": [
    "### Steps to do:"
   ]
  },
  {
   "cell_type": "markdown",
   "metadata": {
    "id": "Kyt7LP1113H1"
   },
   "source": [
    "    1- import libraries and initialize the plotting environment using matplotlib and/or seaborn  (1 point)"
   ]
  },
  {
   "cell_type": "code",
   "execution_count": 1,
   "metadata": {
    "id": "T3dOOhdO13H1"
   },
   "outputs": [],
   "source": [
    "# write you code here\n",
    "import pandas as pd\n",
    "import matplotlib.pyplot as plt\n",
    "import numpy as np\n",
    "import seaborn as sns"
   ]
  },
  {
   "cell_type": "markdown",
   "metadata": {
    "id": "_ery0xiv13H2"
   },
   "source": [
    "    2- Loading data into Panda datafram, name it insta_df (1 point)\n",
    "        * load only the first 2000 rows using the \"nrows\" parameter\n",
    "\n",
    "#### Note: you should read just the 2000 examples of the data.\n",
    "\n",
    "Otherwise, your execution time for each command will be long since the data has 178922 samples."
   ]
  },
  {
   "cell_type": "code",
   "execution_count": 2,
   "metadata": {
    "id": "Y2Fxb6xZ13H3"
   },
   "outputs": [
    {
     "data": {
      "text/html": [
       "<div>\n",
       "<style scoped>\n",
       "    .dataframe tbody tr th:only-of-type {\n",
       "        vertical-align: middle;\n",
       "    }\n",
       "\n",
       "    .dataframe tbody tr th {\n",
       "        vertical-align: top;\n",
       "    }\n",
       "\n",
       "    .dataframe thead th {\n",
       "        text-align: right;\n",
       "    }\n",
       "</style>\n",
       "<table border=\"1\" class=\"dataframe\">\n",
       "  <thead>\n",
       "    <tr style=\"text-align: right;\">\n",
       "      <th></th>\n",
       "      <th>User uuid</th>\n",
       "      <th>Likes</th>\n",
       "      <th>Days passed from post</th>\n",
       "      <th>Likes Score</th>\n",
       "      <th>Type</th>\n",
       "      <th>Numer of Tags</th>\n",
       "      <th>Numer of Comments</th>\n",
       "      <th>Date Posted</th>\n",
       "      <th>Year</th>\n",
       "      <th>Month</th>\n",
       "      <th>Day</th>\n",
       "      <th>Hour</th>\n",
       "      <th>Minute</th>\n",
       "    </tr>\n",
       "  </thead>\n",
       "  <tbody>\n",
       "    <tr>\n",
       "      <th>0</th>\n",
       "      <td>1</td>\n",
       "      <td>506</td>\n",
       "      <td>657</td>\n",
       "      <td>0.74</td>\n",
       "      <td>Image</td>\n",
       "      <td>3</td>\n",
       "      <td>11</td>\n",
       "      <td>2019-05-12 21:18:39</td>\n",
       "      <td>2019</td>\n",
       "      <td>5</td>\n",
       "      <td>12</td>\n",
       "      <td>21</td>\n",
       "      <td>18</td>\n",
       "    </tr>\n",
       "    <tr>\n",
       "      <th>1</th>\n",
       "      <td>1</td>\n",
       "      <td>385</td>\n",
       "      <td>657</td>\n",
       "      <td>0.57</td>\n",
       "      <td>Image</td>\n",
       "      <td>0</td>\n",
       "      <td>1</td>\n",
       "      <td>2019-05-12 14:25:55</td>\n",
       "      <td>2019</td>\n",
       "      <td>5</td>\n",
       "      <td>12</td>\n",
       "      <td>14</td>\n",
       "      <td>25</td>\n",
       "    </tr>\n",
       "    <tr>\n",
       "      <th>2</th>\n",
       "      <td>1</td>\n",
       "      <td>373</td>\n",
       "      <td>666</td>\n",
       "      <td>0.55</td>\n",
       "      <td>Images</td>\n",
       "      <td>4</td>\n",
       "      <td>15</td>\n",
       "      <td>2019-05-03 15:18:37</td>\n",
       "      <td>2019</td>\n",
       "      <td>5</td>\n",
       "      <td>3</td>\n",
       "      <td>15</td>\n",
       "      <td>18</td>\n",
       "    </tr>\n",
       "    <tr>\n",
       "      <th>3</th>\n",
       "      <td>1</td>\n",
       "      <td>312</td>\n",
       "      <td>667</td>\n",
       "      <td>0.46</td>\n",
       "      <td>Images</td>\n",
       "      <td>4</td>\n",
       "      <td>1</td>\n",
       "      <td>2019-05-02 16:40:38</td>\n",
       "      <td>2019</td>\n",
       "      <td>5</td>\n",
       "      <td>2</td>\n",
       "      <td>16</td>\n",
       "      <td>40</td>\n",
       "    </tr>\n",
       "    <tr>\n",
       "      <th>4</th>\n",
       "      <td>1</td>\n",
       "      <td>513</td>\n",
       "      <td>674</td>\n",
       "      <td>0.75</td>\n",
       "      <td>Images</td>\n",
       "      <td>5</td>\n",
       "      <td>0</td>\n",
       "      <td>2019-04-25 16:51:58</td>\n",
       "      <td>2019</td>\n",
       "      <td>4</td>\n",
       "      <td>25</td>\n",
       "      <td>16</td>\n",
       "      <td>51</td>\n",
       "    </tr>\n",
       "    <tr>\n",
       "      <th>...</th>\n",
       "      <td>...</td>\n",
       "      <td>...</td>\n",
       "      <td>...</td>\n",
       "      <td>...</td>\n",
       "      <td>...</td>\n",
       "      <td>...</td>\n",
       "      <td>...</td>\n",
       "      <td>...</td>\n",
       "      <td>...</td>\n",
       "      <td>...</td>\n",
       "      <td>...</td>\n",
       "      <td>...</td>\n",
       "      <td>...</td>\n",
       "    </tr>\n",
       "    <tr>\n",
       "      <th>1995</th>\n",
       "      <td>17</td>\n",
       "      <td>58</td>\n",
       "      <td>186</td>\n",
       "      <td>0.04</td>\n",
       "      <td>Image</td>\n",
       "      <td>0</td>\n",
       "      <td>84</td>\n",
       "      <td>2020-08-25 18:09:56</td>\n",
       "      <td>2020</td>\n",
       "      <td>8</td>\n",
       "      <td>25</td>\n",
       "      <td>18</td>\n",
       "      <td>9</td>\n",
       "    </tr>\n",
       "    <tr>\n",
       "      <th>1996</th>\n",
       "      <td>17</td>\n",
       "      <td>81</td>\n",
       "      <td>193</td>\n",
       "      <td>0.06</td>\n",
       "      <td>Video</td>\n",
       "      <td>4</td>\n",
       "      <td>5</td>\n",
       "      <td>2020-08-18 02:39:23</td>\n",
       "      <td>2020</td>\n",
       "      <td>8</td>\n",
       "      <td>18</td>\n",
       "      <td>2</td>\n",
       "      <td>39</td>\n",
       "    </tr>\n",
       "    <tr>\n",
       "      <th>1997</th>\n",
       "      <td>17</td>\n",
       "      <td>251</td>\n",
       "      <td>194</td>\n",
       "      <td>0.19</td>\n",
       "      <td>Image</td>\n",
       "      <td>4</td>\n",
       "      <td>13</td>\n",
       "      <td>2020-08-17 01:17:17</td>\n",
       "      <td>2020</td>\n",
       "      <td>8</td>\n",
       "      <td>17</td>\n",
       "      <td>1</td>\n",
       "      <td>17</td>\n",
       "    </tr>\n",
       "    <tr>\n",
       "      <th>1998</th>\n",
       "      <td>17</td>\n",
       "      <td>962</td>\n",
       "      <td>197</td>\n",
       "      <td>0.72</td>\n",
       "      <td>Images</td>\n",
       "      <td>0</td>\n",
       "      <td>38</td>\n",
       "      <td>2020-08-14 18:48:13</td>\n",
       "      <td>2020</td>\n",
       "      <td>8</td>\n",
       "      <td>14</td>\n",
       "      <td>18</td>\n",
       "      <td>48</td>\n",
       "    </tr>\n",
       "    <tr>\n",
       "      <th>1999</th>\n",
       "      <td>17</td>\n",
       "      <td>179</td>\n",
       "      <td>198</td>\n",
       "      <td>0.13</td>\n",
       "      <td>Images</td>\n",
       "      <td>5</td>\n",
       "      <td>5</td>\n",
       "      <td>2020-08-13 20:05:24</td>\n",
       "      <td>2020</td>\n",
       "      <td>8</td>\n",
       "      <td>13</td>\n",
       "      <td>20</td>\n",
       "      <td>5</td>\n",
       "    </tr>\n",
       "  </tbody>\n",
       "</table>\n",
       "<p>2000 rows × 13 columns</p>\n",
       "</div>"
      ],
      "text/plain": [
       "      User uuid  Likes  Days passed from post  Likes Score    Type  \\\n",
       "0             1    506                    657         0.74   Image   \n",
       "1             1    385                    657         0.57   Image   \n",
       "2             1    373                    666         0.55  Images   \n",
       "3             1    312                    667         0.46  Images   \n",
       "4             1    513                    674         0.75  Images   \n",
       "...         ...    ...                    ...          ...     ...   \n",
       "1995         17     58                    186         0.04   Image   \n",
       "1996         17     81                    193         0.06   Video   \n",
       "1997         17    251                    194         0.19   Image   \n",
       "1998         17    962                    197         0.72  Images   \n",
       "1999         17    179                    198         0.13  Images   \n",
       "\n",
       "      Numer of Tags  Numer of Comments          Date Posted  Year  Month  Day  \\\n",
       "0                 3                 11  2019-05-12 21:18:39  2019      5   12   \n",
       "1                 0                  1  2019-05-12 14:25:55  2019      5   12   \n",
       "2                 4                 15  2019-05-03 15:18:37  2019      5    3   \n",
       "3                 4                  1  2019-05-02 16:40:38  2019      5    2   \n",
       "4                 5                  0  2019-04-25 16:51:58  2019      4   25   \n",
       "...             ...                ...                  ...   ...    ...  ...   \n",
       "1995              0                 84  2020-08-25 18:09:56  2020      8   25   \n",
       "1996              4                  5  2020-08-18 02:39:23  2020      8   18   \n",
       "1997              4                 13  2020-08-17 01:17:17  2020      8   17   \n",
       "1998              0                 38  2020-08-14 18:48:13  2020      8   14   \n",
       "1999              5                  5  2020-08-13 20:05:24  2020      8   13   \n",
       "\n",
       "      Hour  Minute  \n",
       "0       21      18  \n",
       "1       14      25  \n",
       "2       15      18  \n",
       "3       16      40  \n",
       "4       16      51  \n",
       "...    ...     ...  \n",
       "1995    18       9  \n",
       "1996     2      39  \n",
       "1997     1      17  \n",
       "1998    18      48  \n",
       "1999    20       5  \n",
       "\n",
       "[2000 rows x 13 columns]"
      ]
     },
     "execution_count": 2,
     "metadata": {},
     "output_type": "execute_result"
    }
   ],
   "source": [
    "# write you code here\n",
    "insta_df = pd.read_csv('Instagram_Data.csv',nrows = 2000)\n",
    "\n",
    "\n",
    "##\n",
    "insta_df"
   ]
  },
  {
   "cell_type": "markdown",
   "metadata": {
    "id": "HdIufVjF13H3"
   },
   "source": [
    "    3- Show the 10 first rows of the data, its shape, and the coulmens names: (3 points)\n",
    "    "
   ]
  },
  {
   "cell_type": "code",
   "execution_count": 3,
   "metadata": {
    "id": "rJd4Edpe13H4"
   },
   "outputs": [
    {
     "data": {
      "text/html": [
       "<div>\n",
       "<style scoped>\n",
       "    .dataframe tbody tr th:only-of-type {\n",
       "        vertical-align: middle;\n",
       "    }\n",
       "\n",
       "    .dataframe tbody tr th {\n",
       "        vertical-align: top;\n",
       "    }\n",
       "\n",
       "    .dataframe thead th {\n",
       "        text-align: right;\n",
       "    }\n",
       "</style>\n",
       "<table border=\"1\" class=\"dataframe\">\n",
       "  <thead>\n",
       "    <tr style=\"text-align: right;\">\n",
       "      <th></th>\n",
       "      <th>User uuid</th>\n",
       "      <th>Likes</th>\n",
       "      <th>Days passed from post</th>\n",
       "      <th>Likes Score</th>\n",
       "      <th>Type</th>\n",
       "      <th>Numer of Tags</th>\n",
       "      <th>Numer of Comments</th>\n",
       "      <th>Date Posted</th>\n",
       "      <th>Year</th>\n",
       "      <th>Month</th>\n",
       "      <th>Day</th>\n",
       "      <th>Hour</th>\n",
       "      <th>Minute</th>\n",
       "    </tr>\n",
       "  </thead>\n",
       "  <tbody>\n",
       "    <tr>\n",
       "      <th>0</th>\n",
       "      <td>1</td>\n",
       "      <td>506</td>\n",
       "      <td>657</td>\n",
       "      <td>0.74</td>\n",
       "      <td>Image</td>\n",
       "      <td>3</td>\n",
       "      <td>11</td>\n",
       "      <td>2019-05-12 21:18:39</td>\n",
       "      <td>2019</td>\n",
       "      <td>5</td>\n",
       "      <td>12</td>\n",
       "      <td>21</td>\n",
       "      <td>18</td>\n",
       "    </tr>\n",
       "    <tr>\n",
       "      <th>1</th>\n",
       "      <td>1</td>\n",
       "      <td>385</td>\n",
       "      <td>657</td>\n",
       "      <td>0.57</td>\n",
       "      <td>Image</td>\n",
       "      <td>0</td>\n",
       "      <td>1</td>\n",
       "      <td>2019-05-12 14:25:55</td>\n",
       "      <td>2019</td>\n",
       "      <td>5</td>\n",
       "      <td>12</td>\n",
       "      <td>14</td>\n",
       "      <td>25</td>\n",
       "    </tr>\n",
       "    <tr>\n",
       "      <th>2</th>\n",
       "      <td>1</td>\n",
       "      <td>373</td>\n",
       "      <td>666</td>\n",
       "      <td>0.55</td>\n",
       "      <td>Images</td>\n",
       "      <td>4</td>\n",
       "      <td>15</td>\n",
       "      <td>2019-05-03 15:18:37</td>\n",
       "      <td>2019</td>\n",
       "      <td>5</td>\n",
       "      <td>3</td>\n",
       "      <td>15</td>\n",
       "      <td>18</td>\n",
       "    </tr>\n",
       "    <tr>\n",
       "      <th>3</th>\n",
       "      <td>1</td>\n",
       "      <td>312</td>\n",
       "      <td>667</td>\n",
       "      <td>0.46</td>\n",
       "      <td>Images</td>\n",
       "      <td>4</td>\n",
       "      <td>1</td>\n",
       "      <td>2019-05-02 16:40:38</td>\n",
       "      <td>2019</td>\n",
       "      <td>5</td>\n",
       "      <td>2</td>\n",
       "      <td>16</td>\n",
       "      <td>40</td>\n",
       "    </tr>\n",
       "    <tr>\n",
       "      <th>4</th>\n",
       "      <td>1</td>\n",
       "      <td>513</td>\n",
       "      <td>674</td>\n",
       "      <td>0.75</td>\n",
       "      <td>Images</td>\n",
       "      <td>5</td>\n",
       "      <td>0</td>\n",
       "      <td>2019-04-25 16:51:58</td>\n",
       "      <td>2019</td>\n",
       "      <td>4</td>\n",
       "      <td>25</td>\n",
       "      <td>16</td>\n",
       "      <td>51</td>\n",
       "    </tr>\n",
       "    <tr>\n",
       "      <th>5</th>\n",
       "      <td>1</td>\n",
       "      <td>539</td>\n",
       "      <td>677</td>\n",
       "      <td>0.79</td>\n",
       "      <td>Images</td>\n",
       "      <td>3</td>\n",
       "      <td>3</td>\n",
       "      <td>2019-04-22 20:03:00</td>\n",
       "      <td>2019</td>\n",
       "      <td>4</td>\n",
       "      <td>22</td>\n",
       "      <td>20</td>\n",
       "      <td>3</td>\n",
       "    </tr>\n",
       "    <tr>\n",
       "      <th>6</th>\n",
       "      <td>1</td>\n",
       "      <td>330</td>\n",
       "      <td>677</td>\n",
       "      <td>0.49</td>\n",
       "      <td>Image</td>\n",
       "      <td>0</td>\n",
       "      <td>3</td>\n",
       "      <td>2019-04-22 15:07:34</td>\n",
       "      <td>2019</td>\n",
       "      <td>4</td>\n",
       "      <td>22</td>\n",
       "      <td>15</td>\n",
       "      <td>7</td>\n",
       "    </tr>\n",
       "    <tr>\n",
       "      <th>7</th>\n",
       "      <td>1</td>\n",
       "      <td>472</td>\n",
       "      <td>681</td>\n",
       "      <td>0.69</td>\n",
       "      <td>Images</td>\n",
       "      <td>3</td>\n",
       "      <td>7</td>\n",
       "      <td>2019-04-18 14:44:36</td>\n",
       "      <td>2019</td>\n",
       "      <td>4</td>\n",
       "      <td>18</td>\n",
       "      <td>14</td>\n",
       "      <td>44</td>\n",
       "    </tr>\n",
       "    <tr>\n",
       "      <th>8</th>\n",
       "      <td>1</td>\n",
       "      <td>272</td>\n",
       "      <td>682</td>\n",
       "      <td>0.40</td>\n",
       "      <td>Image</td>\n",
       "      <td>0</td>\n",
       "      <td>0</td>\n",
       "      <td>2019-04-17 15:42:56</td>\n",
       "      <td>2019</td>\n",
       "      <td>4</td>\n",
       "      <td>17</td>\n",
       "      <td>15</td>\n",
       "      <td>42</td>\n",
       "    </tr>\n",
       "    <tr>\n",
       "      <th>9</th>\n",
       "      <td>1</td>\n",
       "      <td>304</td>\n",
       "      <td>688</td>\n",
       "      <td>0.45</td>\n",
       "      <td>Images</td>\n",
       "      <td>3</td>\n",
       "      <td>0</td>\n",
       "      <td>2019-04-11 15:00:05</td>\n",
       "      <td>2019</td>\n",
       "      <td>4</td>\n",
       "      <td>11</td>\n",
       "      <td>15</td>\n",
       "      <td>0</td>\n",
       "    </tr>\n",
       "  </tbody>\n",
       "</table>\n",
       "</div>"
      ],
      "text/plain": [
       "   User uuid  Likes  Days passed from post  Likes Score    Type  \\\n",
       "0          1    506                    657         0.74   Image   \n",
       "1          1    385                    657         0.57   Image   \n",
       "2          1    373                    666         0.55  Images   \n",
       "3          1    312                    667         0.46  Images   \n",
       "4          1    513                    674         0.75  Images   \n",
       "5          1    539                    677         0.79  Images   \n",
       "6          1    330                    677         0.49   Image   \n",
       "7          1    472                    681         0.69  Images   \n",
       "8          1    272                    682         0.40   Image   \n",
       "9          1    304                    688         0.45  Images   \n",
       "\n",
       "   Numer of Tags  Numer of Comments          Date Posted  Year  Month  Day  \\\n",
       "0              3                 11  2019-05-12 21:18:39  2019      5   12   \n",
       "1              0                  1  2019-05-12 14:25:55  2019      5   12   \n",
       "2              4                 15  2019-05-03 15:18:37  2019      5    3   \n",
       "3              4                  1  2019-05-02 16:40:38  2019      5    2   \n",
       "4              5                  0  2019-04-25 16:51:58  2019      4   25   \n",
       "5              3                  3  2019-04-22 20:03:00  2019      4   22   \n",
       "6              0                  3  2019-04-22 15:07:34  2019      4   22   \n",
       "7              3                  7  2019-04-18 14:44:36  2019      4   18   \n",
       "8              0                  0  2019-04-17 15:42:56  2019      4   17   \n",
       "9              3                  0  2019-04-11 15:00:05  2019      4   11   \n",
       "\n",
       "   Hour  Minute  \n",
       "0    21      18  \n",
       "1    14      25  \n",
       "2    15      18  \n",
       "3    16      40  \n",
       "4    16      51  \n",
       "5    20       3  \n",
       "6    15       7  \n",
       "7    14      44  \n",
       "8    15      42  \n",
       "9    15       0  "
      ]
     },
     "execution_count": 3,
     "metadata": {},
     "output_type": "execute_result"
    }
   ],
   "source": [
    "# 10 first rows of the data\n",
    "insta_df.head(10)"
   ]
  },
  {
   "cell_type": "code",
   "execution_count": 4,
   "metadata": {
    "id": "Bm0VCUzH13H5"
   },
   "outputs": [
    {
     "data": {
      "text/plain": [
       "(2000, 13)"
      ]
     },
     "execution_count": 4,
     "metadata": {},
     "output_type": "execute_result"
    }
   ],
   "source": [
    "# insta_df shape\n",
    "insta_df.shape"
   ]
  },
  {
   "cell_type": "code",
   "execution_count": 5,
   "metadata": {
    "id": "fwRIMmAg13H5"
   },
   "outputs": [
    {
     "data": {
      "text/plain": [
       "Index(['User uuid', 'Likes', 'Days passed from post', 'Likes Score', 'Type',\n",
       "       'Numer of Tags', 'Numer of Comments', 'Date Posted', 'Year', 'Month',\n",
       "       'Day', 'Hour', 'Minute'],\n",
       "      dtype='object')"
      ]
     },
     "execution_count": 5,
     "metadata": {},
     "output_type": "execute_result"
    }
   ],
   "source": [
    "# insta_df column names\n",
    "insta_df.columns"
   ]
  },
  {
   "cell_type": "markdown",
   "metadata": {
    "id": "MOSwAA2Z13H5"
   },
   "source": [
    "    4- Check the number of samples in the dataset (1 point)"
   ]
  },
  {
   "cell_type": "code",
   "execution_count": 6,
   "metadata": {
    "id": "DQSRx-bh13H6"
   },
   "outputs": [
    {
     "data": {
      "text/plain": [
       "2000"
      ]
     },
     "execution_count": 6,
     "metadata": {},
     "output_type": "execute_result"
    }
   ],
   "source": [
    "# insta_df row numbers:\n",
    "insta_df.shape[0]"
   ]
  },
  {
   "cell_type": "markdown",
   "metadata": {
    "id": "vf3U6HRD13H6"
   },
   "source": [
    "    5- Check the data type of each column ( 1 point)"
   ]
  },
  {
   "cell_type": "code",
   "execution_count": 7,
   "metadata": {
    "id": "KJmc6r-113H6"
   },
   "outputs": [
    {
     "data": {
      "text/plain": [
       "User uuid                  int64\n",
       "Likes                      int64\n",
       "Days passed from post      int64\n",
       "Likes Score              float64\n",
       "Type                      object\n",
       "Numer of Tags              int64\n",
       "Numer of Comments          int64\n",
       "Date Posted               object\n",
       "Year                       int64\n",
       "Month                      int64\n",
       "Day                        int64\n",
       "Hour                       int64\n",
       "Minute                     int64\n",
       "dtype: object"
      ]
     },
     "execution_count": 7,
     "metadata": {},
     "output_type": "execute_result"
    }
   ],
   "source": [
    "# Print datatypes\n",
    "insta_df.dtypes"
   ]
  },
  {
   "cell_type": "markdown",
   "metadata": {
    "id": "-jziyg2J13H7"
   },
   "source": [
    "    6- Remove columns from the dataframe:\n",
    "\n",
    "        a. Remove user id from the insta_df as there is no useful information from this column. (1 point)\n",
    "\n",
    "        b. Remove the Likes Score since it is calculated from the number of likes. (1 point)\n",
    "\n",
    "        c. Remove the date and time columns from the data frame since our goal is not to consider the posted date and time related to the number of likes (2 points)"
   ]
  },
  {
   "cell_type": "code",
   "execution_count": 8,
   "metadata": {
    "id": "p_PO2lT_13H7"
   },
   "outputs": [
    {
     "data": {
      "text/html": [
       "<div>\n",
       "<style scoped>\n",
       "    .dataframe tbody tr th:only-of-type {\n",
       "        vertical-align: middle;\n",
       "    }\n",
       "\n",
       "    .dataframe tbody tr th {\n",
       "        vertical-align: top;\n",
       "    }\n",
       "\n",
       "    .dataframe thead th {\n",
       "        text-align: right;\n",
       "    }\n",
       "</style>\n",
       "<table border=\"1\" class=\"dataframe\">\n",
       "  <thead>\n",
       "    <tr style=\"text-align: right;\">\n",
       "      <th></th>\n",
       "      <th>Likes</th>\n",
       "      <th>Days passed from post</th>\n",
       "      <th>Type</th>\n",
       "      <th>Numer of Tags</th>\n",
       "      <th>Numer of Comments</th>\n",
       "    </tr>\n",
       "  </thead>\n",
       "  <tbody>\n",
       "    <tr>\n",
       "      <th>0</th>\n",
       "      <td>506</td>\n",
       "      <td>657</td>\n",
       "      <td>Image</td>\n",
       "      <td>3</td>\n",
       "      <td>11</td>\n",
       "    </tr>\n",
       "    <tr>\n",
       "      <th>1</th>\n",
       "      <td>385</td>\n",
       "      <td>657</td>\n",
       "      <td>Image</td>\n",
       "      <td>0</td>\n",
       "      <td>1</td>\n",
       "    </tr>\n",
       "    <tr>\n",
       "      <th>2</th>\n",
       "      <td>373</td>\n",
       "      <td>666</td>\n",
       "      <td>Images</td>\n",
       "      <td>4</td>\n",
       "      <td>15</td>\n",
       "    </tr>\n",
       "    <tr>\n",
       "      <th>3</th>\n",
       "      <td>312</td>\n",
       "      <td>667</td>\n",
       "      <td>Images</td>\n",
       "      <td>4</td>\n",
       "      <td>1</td>\n",
       "    </tr>\n",
       "    <tr>\n",
       "      <th>4</th>\n",
       "      <td>513</td>\n",
       "      <td>674</td>\n",
       "      <td>Images</td>\n",
       "      <td>5</td>\n",
       "      <td>0</td>\n",
       "    </tr>\n",
       "    <tr>\n",
       "      <th>...</th>\n",
       "      <td>...</td>\n",
       "      <td>...</td>\n",
       "      <td>...</td>\n",
       "      <td>...</td>\n",
       "      <td>...</td>\n",
       "    </tr>\n",
       "    <tr>\n",
       "      <th>1995</th>\n",
       "      <td>58</td>\n",
       "      <td>186</td>\n",
       "      <td>Image</td>\n",
       "      <td>0</td>\n",
       "      <td>84</td>\n",
       "    </tr>\n",
       "    <tr>\n",
       "      <th>1996</th>\n",
       "      <td>81</td>\n",
       "      <td>193</td>\n",
       "      <td>Video</td>\n",
       "      <td>4</td>\n",
       "      <td>5</td>\n",
       "    </tr>\n",
       "    <tr>\n",
       "      <th>1997</th>\n",
       "      <td>251</td>\n",
       "      <td>194</td>\n",
       "      <td>Image</td>\n",
       "      <td>4</td>\n",
       "      <td>13</td>\n",
       "    </tr>\n",
       "    <tr>\n",
       "      <th>1998</th>\n",
       "      <td>962</td>\n",
       "      <td>197</td>\n",
       "      <td>Images</td>\n",
       "      <td>0</td>\n",
       "      <td>38</td>\n",
       "    </tr>\n",
       "    <tr>\n",
       "      <th>1999</th>\n",
       "      <td>179</td>\n",
       "      <td>198</td>\n",
       "      <td>Images</td>\n",
       "      <td>5</td>\n",
       "      <td>5</td>\n",
       "    </tr>\n",
       "  </tbody>\n",
       "</table>\n",
       "<p>2000 rows × 5 columns</p>\n",
       "</div>"
      ],
      "text/plain": [
       "      Likes  Days passed from post    Type  Numer of Tags  Numer of Comments\n",
       "0       506                    657   Image              3                 11\n",
       "1       385                    657   Image              0                  1\n",
       "2       373                    666  Images              4                 15\n",
       "3       312                    667  Images              4                  1\n",
       "4       513                    674  Images              5                  0\n",
       "...     ...                    ...     ...            ...                ...\n",
       "1995     58                    186   Image              0                 84\n",
       "1996     81                    193   Video              4                  5\n",
       "1997    251                    194   Image              4                 13\n",
       "1998    962                    197  Images              0                 38\n",
       "1999    179                    198  Images              5                  5\n",
       "\n",
       "[2000 rows x 5 columns]"
      ]
     },
     "execution_count": 8,
     "metadata": {},
     "output_type": "execute_result"
    }
   ],
   "source": [
    "# Remove User uuid\n",
    "insta_df.drop('User uuid',axis = 1, inplace = True)\n",
    "\n",
    "# Remove User Likes Score\n",
    "insta_df.drop('Likes Score',axis = 1, inplace = True)\n",
    "\n",
    "# Remove all columns between column index 1 to 3\n",
    "columns_to_remove = ['Date Posted', 'Year', 'Month', 'Day', 'Hour', 'Minute']\n",
    "insta_df.drop(columns=columns_to_remove, inplace=True)\n",
    "\n",
    "# show the insta_df after you remove the required columns\n",
    "insta_df"
   ]
  },
  {
   "cell_type": "markdown",
   "metadata": {
    "id": "zr-WQ_8b13H7"
   },
   "source": [
    "    7- Check how many unique values are on the \"Type\" column. ( 1 point)\n",
    "        * you can use the unique() function if you wish"
   ]
  },
  {
   "cell_type": "code",
   "execution_count": 9,
   "metadata": {
    "id": "p_IR9pYW13H7"
   },
   "outputs": [
    {
     "data": {
      "text/plain": [
       "array(['Image', 'Images', 'Video'], dtype=object)"
      ]
     },
     "execution_count": 9,
     "metadata": {},
     "output_type": "execute_result"
    }
   ],
   "source": [
    "# write you code here\n",
    "\n",
    "insta_df['Type'].unique()"
   ]
  },
  {
   "cell_type": "markdown",
   "metadata": {
    "id": "b_tbkz3M13H8"
   },
   "source": [
    "    8- Use label encoder to change the \"Type\" coulmn values to numeric values (2 point)"
   ]
  },
  {
   "cell_type": "code",
   "execution_count": 10,
   "metadata": {
    "id": "HiS5AybO13H8"
   },
   "outputs": [
    {
     "data": {
      "text/html": [
       "<div>\n",
       "<style scoped>\n",
       "    .dataframe tbody tr th:only-of-type {\n",
       "        vertical-align: middle;\n",
       "    }\n",
       "\n",
       "    .dataframe tbody tr th {\n",
       "        vertical-align: top;\n",
       "    }\n",
       "\n",
       "    .dataframe thead th {\n",
       "        text-align: right;\n",
       "    }\n",
       "</style>\n",
       "<table border=\"1\" class=\"dataframe\">\n",
       "  <thead>\n",
       "    <tr style=\"text-align: right;\">\n",
       "      <th></th>\n",
       "      <th>Likes</th>\n",
       "      <th>Days passed from post</th>\n",
       "      <th>Type</th>\n",
       "      <th>Numer of Tags</th>\n",
       "      <th>Numer of Comments</th>\n",
       "    </tr>\n",
       "  </thead>\n",
       "  <tbody>\n",
       "    <tr>\n",
       "      <th>0</th>\n",
       "      <td>506</td>\n",
       "      <td>657</td>\n",
       "      <td>0</td>\n",
       "      <td>3</td>\n",
       "      <td>11</td>\n",
       "    </tr>\n",
       "    <tr>\n",
       "      <th>1</th>\n",
       "      <td>385</td>\n",
       "      <td>657</td>\n",
       "      <td>0</td>\n",
       "      <td>0</td>\n",
       "      <td>1</td>\n",
       "    </tr>\n",
       "    <tr>\n",
       "      <th>2</th>\n",
       "      <td>373</td>\n",
       "      <td>666</td>\n",
       "      <td>1</td>\n",
       "      <td>4</td>\n",
       "      <td>15</td>\n",
       "    </tr>\n",
       "    <tr>\n",
       "      <th>3</th>\n",
       "      <td>312</td>\n",
       "      <td>667</td>\n",
       "      <td>1</td>\n",
       "      <td>4</td>\n",
       "      <td>1</td>\n",
       "    </tr>\n",
       "    <tr>\n",
       "      <th>4</th>\n",
       "      <td>513</td>\n",
       "      <td>674</td>\n",
       "      <td>1</td>\n",
       "      <td>5</td>\n",
       "      <td>0</td>\n",
       "    </tr>\n",
       "    <tr>\n",
       "      <th>...</th>\n",
       "      <td>...</td>\n",
       "      <td>...</td>\n",
       "      <td>...</td>\n",
       "      <td>...</td>\n",
       "      <td>...</td>\n",
       "    </tr>\n",
       "    <tr>\n",
       "      <th>1995</th>\n",
       "      <td>58</td>\n",
       "      <td>186</td>\n",
       "      <td>0</td>\n",
       "      <td>0</td>\n",
       "      <td>84</td>\n",
       "    </tr>\n",
       "    <tr>\n",
       "      <th>1996</th>\n",
       "      <td>81</td>\n",
       "      <td>193</td>\n",
       "      <td>2</td>\n",
       "      <td>4</td>\n",
       "      <td>5</td>\n",
       "    </tr>\n",
       "    <tr>\n",
       "      <th>1997</th>\n",
       "      <td>251</td>\n",
       "      <td>194</td>\n",
       "      <td>0</td>\n",
       "      <td>4</td>\n",
       "      <td>13</td>\n",
       "    </tr>\n",
       "    <tr>\n",
       "      <th>1998</th>\n",
       "      <td>962</td>\n",
       "      <td>197</td>\n",
       "      <td>1</td>\n",
       "      <td>0</td>\n",
       "      <td>38</td>\n",
       "    </tr>\n",
       "    <tr>\n",
       "      <th>1999</th>\n",
       "      <td>179</td>\n",
       "      <td>198</td>\n",
       "      <td>1</td>\n",
       "      <td>5</td>\n",
       "      <td>5</td>\n",
       "    </tr>\n",
       "  </tbody>\n",
       "</table>\n",
       "<p>2000 rows × 5 columns</p>\n",
       "</div>"
      ],
      "text/plain": [
       "      Likes  Days passed from post  Type  Numer of Tags  Numer of Comments\n",
       "0       506                    657     0              3                 11\n",
       "1       385                    657     0              0                  1\n",
       "2       373                    666     1              4                 15\n",
       "3       312                    667     1              4                  1\n",
       "4       513                    674     1              5                  0\n",
       "...     ...                    ...   ...            ...                ...\n",
       "1995     58                    186     0              0                 84\n",
       "1996     81                    193     2              4                  5\n",
       "1997    251                    194     0              4                 13\n",
       "1998    962                    197     1              0                 38\n",
       "1999    179                    198     1              5                  5\n",
       "\n",
       "[2000 rows x 5 columns]"
      ]
     },
     "execution_count": 10,
     "metadata": {},
     "output_type": "execute_result"
    }
   ],
   "source": [
    "# Encode \"Type\"\n",
    "from sklearn.preprocessing import LabelEncoder\n",
    "\n",
    "label_encoder = LabelEncoder()\n",
    "\n",
    "insta_df['Type'] = label_encoder.fit_transform(insta_df['Type'])\n",
    "\n",
    "##\n",
    "insta_df"
   ]
  },
  {
   "cell_type": "markdown",
   "metadata": {
    "id": "y610V4t-13H8"
   },
   "source": [
    "    9- Check how many NaN values are in each column:\n",
    "\n",
    "        a. How many NaNs as total ( 1 point)\n",
    "\n",
    "        b. How many NaNs as a percentage of overall data ( 1 point)"
   ]
  },
  {
   "cell_type": "code",
   "execution_count": 11,
   "metadata": {
    "id": "eoIl5u3z13H8"
   },
   "outputs": [
    {
     "data": {
      "text/plain": [
       "0"
      ]
     },
     "execution_count": 11,
     "metadata": {},
     "output_type": "execute_result"
    }
   ],
   "source": [
    "# a. How many NaNs as total\n",
    "total_nan_count = insta_df.isnull().sum().sum()\n",
    "\n",
    "total_nan_count"
   ]
  },
  {
   "cell_type": "code",
   "execution_count": 12,
   "metadata": {
    "id": "2mZ86GSW13H9"
   },
   "outputs": [
    {
     "data": {
      "text/plain": [
       "0.0"
      ]
     },
     "execution_count": 12,
     "metadata": {},
     "output_type": "execute_result"
    }
   ],
   "source": [
    "# b. How many NaNs as a percentage of overall data\n",
    "total_values = insta_df.size\n",
    "\n",
    "percentage_nan = (total_nan_count / total_values) * 100\n",
    "\n",
    "percentage_nan "
   ]
  },
  {
   "cell_type": "markdown",
   "metadata": {
    "id": "jteaLpCY13H9"
   },
   "source": [
    "    10- Divide the data into features (X), and target (y) --> your target is Likes  (2 points)"
   ]
  },
  {
   "cell_type": "code",
   "execution_count": 13,
   "metadata": {
    "id": "J3f1Vs8f13H9"
   },
   "outputs": [
    {
     "data": {
      "text/html": [
       "<div>\n",
       "<style scoped>\n",
       "    .dataframe tbody tr th:only-of-type {\n",
       "        vertical-align: middle;\n",
       "    }\n",
       "\n",
       "    .dataframe tbody tr th {\n",
       "        vertical-align: top;\n",
       "    }\n",
       "\n",
       "    .dataframe thead th {\n",
       "        text-align: right;\n",
       "    }\n",
       "</style>\n",
       "<table border=\"1\" class=\"dataframe\">\n",
       "  <thead>\n",
       "    <tr style=\"text-align: right;\">\n",
       "      <th></th>\n",
       "      <th>Days passed from post</th>\n",
       "      <th>Type</th>\n",
       "      <th>Numer of Tags</th>\n",
       "      <th>Numer of Comments</th>\n",
       "    </tr>\n",
       "  </thead>\n",
       "  <tbody>\n",
       "    <tr>\n",
       "      <th>0</th>\n",
       "      <td>657</td>\n",
       "      <td>0</td>\n",
       "      <td>3</td>\n",
       "      <td>11</td>\n",
       "    </tr>\n",
       "    <tr>\n",
       "      <th>1</th>\n",
       "      <td>657</td>\n",
       "      <td>0</td>\n",
       "      <td>0</td>\n",
       "      <td>1</td>\n",
       "    </tr>\n",
       "    <tr>\n",
       "      <th>2</th>\n",
       "      <td>666</td>\n",
       "      <td>1</td>\n",
       "      <td>4</td>\n",
       "      <td>15</td>\n",
       "    </tr>\n",
       "    <tr>\n",
       "      <th>3</th>\n",
       "      <td>667</td>\n",
       "      <td>1</td>\n",
       "      <td>4</td>\n",
       "      <td>1</td>\n",
       "    </tr>\n",
       "    <tr>\n",
       "      <th>4</th>\n",
       "      <td>674</td>\n",
       "      <td>1</td>\n",
       "      <td>5</td>\n",
       "      <td>0</td>\n",
       "    </tr>\n",
       "    <tr>\n",
       "      <th>...</th>\n",
       "      <td>...</td>\n",
       "      <td>...</td>\n",
       "      <td>...</td>\n",
       "      <td>...</td>\n",
       "    </tr>\n",
       "    <tr>\n",
       "      <th>1995</th>\n",
       "      <td>186</td>\n",
       "      <td>0</td>\n",
       "      <td>0</td>\n",
       "      <td>84</td>\n",
       "    </tr>\n",
       "    <tr>\n",
       "      <th>1996</th>\n",
       "      <td>193</td>\n",
       "      <td>2</td>\n",
       "      <td>4</td>\n",
       "      <td>5</td>\n",
       "    </tr>\n",
       "    <tr>\n",
       "      <th>1997</th>\n",
       "      <td>194</td>\n",
       "      <td>0</td>\n",
       "      <td>4</td>\n",
       "      <td>13</td>\n",
       "    </tr>\n",
       "    <tr>\n",
       "      <th>1998</th>\n",
       "      <td>197</td>\n",
       "      <td>1</td>\n",
       "      <td>0</td>\n",
       "      <td>38</td>\n",
       "    </tr>\n",
       "    <tr>\n",
       "      <th>1999</th>\n",
       "      <td>198</td>\n",
       "      <td>1</td>\n",
       "      <td>5</td>\n",
       "      <td>5</td>\n",
       "    </tr>\n",
       "  </tbody>\n",
       "</table>\n",
       "<p>2000 rows × 4 columns</p>\n",
       "</div>"
      ],
      "text/plain": [
       "      Days passed from post  Type  Numer of Tags  Numer of Comments\n",
       "0                       657     0              3                 11\n",
       "1                       657     0              0                  1\n",
       "2                       666     1              4                 15\n",
       "3                       667     1              4                  1\n",
       "4                       674     1              5                  0\n",
       "...                     ...   ...            ...                ...\n",
       "1995                    186     0              0                 84\n",
       "1996                    193     2              4                  5\n",
       "1997                    194     0              4                 13\n",
       "1998                    197     1              0                 38\n",
       "1999                    198     1              5                  5\n",
       "\n",
       "[2000 rows x 4 columns]"
      ]
     },
     "execution_count": 13,
     "metadata": {},
     "output_type": "execute_result"
    }
   ],
   "source": [
    "# your featuers X:\n",
    "X = insta_df.drop(columns=['Likes'])\n",
    "##\n",
    "X"
   ]
  },
  {
   "cell_type": "code",
   "execution_count": 14,
   "metadata": {
    "id": "o0OnXQPR13H9"
   },
   "outputs": [
    {
     "data": {
      "text/plain": [
       "0       506\n",
       "1       385\n",
       "2       373\n",
       "3       312\n",
       "4       513\n",
       "       ... \n",
       "1995     58\n",
       "1996     81\n",
       "1997    251\n",
       "1998    962\n",
       "1999    179\n",
       "Name: Likes, Length: 2000, dtype: int64"
      ]
     },
     "execution_count": 14,
     "metadata": {},
     "output_type": "execute_result"
    }
   ],
   "source": [
    "# your target y:\n",
    "y = insta_df['Likes']\n",
    "##\n",
    "y"
   ]
  },
  {
   "cell_type": "markdown",
   "metadata": {
    "id": "6zbuc5FU13H9"
   },
   "source": [
    "    11- Checking for Multicollinearity for features (X) using a correlation matrix. (1 points)"
   ]
  },
  {
   "cell_type": "code",
   "execution_count": 15,
   "metadata": {
    "id": "AuIqmwnw13H-"
   },
   "outputs": [
    {
     "data": {
      "text/html": [
       "<div>\n",
       "<style scoped>\n",
       "    .dataframe tbody tr th:only-of-type {\n",
       "        vertical-align: middle;\n",
       "    }\n",
       "\n",
       "    .dataframe tbody tr th {\n",
       "        vertical-align: top;\n",
       "    }\n",
       "\n",
       "    .dataframe thead th {\n",
       "        text-align: right;\n",
       "    }\n",
       "</style>\n",
       "<table border=\"1\" class=\"dataframe\">\n",
       "  <thead>\n",
       "    <tr style=\"text-align: right;\">\n",
       "      <th></th>\n",
       "      <th>Days passed from post</th>\n",
       "      <th>Type</th>\n",
       "      <th>Numer of Tags</th>\n",
       "      <th>Numer of Comments</th>\n",
       "    </tr>\n",
       "  </thead>\n",
       "  <tbody>\n",
       "    <tr>\n",
       "      <th>Days passed from post</th>\n",
       "      <td>1.000000</td>\n",
       "      <td>-0.146155</td>\n",
       "      <td>-0.170063</td>\n",
       "      <td>-0.115434</td>\n",
       "    </tr>\n",
       "    <tr>\n",
       "      <th>Type</th>\n",
       "      <td>-0.146155</td>\n",
       "      <td>1.000000</td>\n",
       "      <td>-0.013724</td>\n",
       "      <td>0.002244</td>\n",
       "    </tr>\n",
       "    <tr>\n",
       "      <th>Numer of Tags</th>\n",
       "      <td>-0.170063</td>\n",
       "      <td>-0.013724</td>\n",
       "      <td>1.000000</td>\n",
       "      <td>0.053189</td>\n",
       "    </tr>\n",
       "    <tr>\n",
       "      <th>Numer of Comments</th>\n",
       "      <td>-0.115434</td>\n",
       "      <td>0.002244</td>\n",
       "      <td>0.053189</td>\n",
       "      <td>1.000000</td>\n",
       "    </tr>\n",
       "  </tbody>\n",
       "</table>\n",
       "</div>"
      ],
      "text/plain": [
       "                       Days passed from post      Type  Numer of Tags  \\\n",
       "Days passed from post               1.000000 -0.146155      -0.170063   \n",
       "Type                               -0.146155  1.000000      -0.013724   \n",
       "Numer of Tags                      -0.170063 -0.013724       1.000000   \n",
       "Numer of Comments                  -0.115434  0.002244       0.053189   \n",
       "\n",
       "                       Numer of Comments  \n",
       "Days passed from post          -0.115434  \n",
       "Type                            0.002244  \n",
       "Numer of Tags                   0.053189  \n",
       "Numer of Comments               1.000000  "
      ]
     },
     "execution_count": 15,
     "metadata": {},
     "output_type": "execute_result"
    }
   ],
   "source": [
    "# write your code here:\n",
    "\n",
    "X.corr()"
   ]
  },
  {
   "cell_type": "markdown",
   "metadata": {
    "id": "1rUf45QJ13H-"
   },
   "source": [
    "    12- From the above pairplot, what did you observe? ( 1 points)\n",
    "\n",
    "##### Write your answer here:\n",
    "\n",
    "-- Left diagonal of the above matrix represents that correlation of each feature with itself is 1 bcoz it perfectly correlates with itself.\n",
    "\n",
    "\n",
    "-- \"Days passed from post\" column has weak negative correlation with \"Type,\" \"Numer of Tags,\" and \"Numer of Comments\" and similarly for other features as well."
   ]
  },
  {
   "cell_type": "markdown",
   "metadata": {
    "id": "OexfiW2g13H-"
   },
   "source": [
    "    13- Use a scatter plot to check each feature's relationship with the target variable, Likes. (1 points)"
   ]
  },
  {
   "cell_type": "code",
   "execution_count": 16,
   "metadata": {
    "id": "4ML8vFoo13H-"
   },
   "outputs": [
    {
     "data": {
      "image/png": "[encoded data removed]",
      "text/plain": [
       "<Figure size 800x500 with 1 Axes>"
      ]
     },
     "metadata": {},
     "output_type": "display_data"
    },
    {
     "data": {
      "image/png": "[encoded data removed]",
      "text/plain": [
       "<Figure size 800x500 with 1 Axes>"
      ]
     },
     "metadata": {},
     "output_type": "display_data"
    },
    {
     "data": {
      "image/png": "[encoded data removed]",
      "text/plain": [
       "<Figure size 800x500 with 1 Axes>"
      ]
     },
     "metadata": {},
     "output_type": "display_data"
    },
    {
     "data": {
      "image/png": "[encoded data removed]",
      "text/plain": [
       "<Figure size 800x500 with 1 Axes>"
      ]
     },
     "metadata": {},
     "output_type": "display_data"
    }
   ],
   "source": [
    "# write your code here\n",
    "\n",
    "for feature in X.columns:\n",
    "    plt.figure(figsize=(8, 5))\n",
    "    plt.scatter(X[feature], y, alpha=0.5)\n",
    "    plt.title(f\"Scatter Plot of {feature} vs Likes\")\n",
    "    plt.xlabel(feature)\n",
    "    plt.ylabel(\"Likes\")\n",
    "    plt.grid(True)\n",
    "    plt.show()"
   ]
  },
  {
   "cell_type": "markdown",
   "metadata": {
    "id": "gv51MgdM13H-"
   },
   "source": [
    "    14- From the above pairplot, what did you observe? ( 1 points)\n",
    "\n",
    "\n",
    "##### Write your answer here:\n",
    "\n",
    "-- In 1st scatterplot, no. of likes ranges uptil 10,000 when days passed from the post were uptil 250 days, after which likes were around 1000 or less.\n",
    "\n",
    "-- In 2nd scatterplot, you see that more likes are there for just 1 image post as compared to images and video posts.\n",
    "\n",
    "-- In 3rd scatterplot, we observe that as no. of tags crosses 28, no. of likes increases drastically. Otherwise likes are around 1000 only.\n",
    "\n",
    "-- In 4th scatterplot, if your no. of comments is under 200,  you can get significant amount of likes ranging uptil 10k but as your no. of comments are above 200, you will hardly get any likes."
   ]
  },
  {
   "cell_type": "markdown",
   "metadata": {
    "id": "sEqOlvu_13H-"
   },
   "source": [
    "    15- Display the target distribution using histogram (1 points)"
   ]
  },
  {
   "cell_type": "code",
   "execution_count": 17,
   "metadata": {
    "id": "YTfPCGV713H-"
   },
   "outputs": [
    {
     "data": {
      "image/png": "[encoded data removed]",
      "text/plain": [
       "<Figure size 800x500 with 1 Axes>"
      ]
     },
     "metadata": {},
     "output_type": "display_data"
    }
   ],
   "source": [
    "# write your code here:\n",
    "\n",
    "plt.figure(figsize=(8, 5))\n",
    "plt.hist(y, bins=30, color='blue', alpha=0.7)\n",
    "plt.title(\"Distribution of Likes\")\n",
    "plt.xlabel(\"Likes\")\n",
    "plt.ylabel(\"Frequency\")\n",
    "plt.grid(True)\n",
    "plt.show()"
   ]
  },
  {
   "cell_type": "markdown",
   "metadata": {
    "id": "LsU1sL0r13H_"
   },
   "source": [
    "    16- From the above histogram, what did you observe about the target distribution? ( 1 point)\n",
    "    \n",
    "\n",
    "##### Write your answer here:\n",
    "\n",
    "-- Less no. of likes for posts(below 1k) have massive frequency .\n",
    "\n",
    "\n",
    "-- But as no. of likes increases or it crosses 1k likes, there is negligible frequency."
   ]
  },
  {
   "cell_type": "markdown",
   "metadata": {
    "id": "SwQC-LFV13H_"
   },
   "source": [
    "    17-Transfer the target y into log to have the normal distributions: (1 point)"
   ]
  },
  {
   "cell_type": "code",
   "execution_count": 18,
   "metadata": {
    "id": "37uNhh_a13H_"
   },
   "outputs": [
    {
     "data": {
      "image/png": "[encoded data removed]",
      "text/plain": [
       "<Figure size 800x500 with 1 Axes>"
      ]
     },
     "metadata": {},
     "output_type": "display_data"
    }
   ],
   "source": [
    "#transfer the target y into log\n",
    "\n",
    "y_log = np.log(y)\n",
    "\n",
    "plt.figure(figsize=(8, 5))\n",
    "plt.hist(y_log, bins=30, color='green', alpha=0.7)\n",
    "plt.title(\"Distribution of Log(Likes)\")\n",
    "plt.xlabel(\"Log(Likes)\")\n",
    "plt.ylabel(\"Frequency\")\n",
    "plt.grid(True)\n",
    "plt.show()"
   ]
  },
  {
   "cell_type": "markdown",
   "metadata": {
    "id": "Uzzc9lR013H_"
   },
   "source": [
    "### Preparing the machine learning pipeline\n"
   ]
  },
  {
   "cell_type": "markdown",
   "metadata": {
    "id": "X8fzxpWL13H_"
   },
   "source": [
    "    18- Splitting the data into training 80% and testing sets 20%. (1 point)\n",
    "        * print the sizes of our training and test set to verify if the splitting has occurred properly. (1 point)"
   ]
  },
  {
   "cell_type": "code",
   "execution_count": 19,
   "metadata": {
    "id": "Bc1YDei813H_"
   },
   "outputs": [
    {
     "name": "stdout",
     "output_type": "stream",
     "text": [
      "Size of training set (X_train): (1600, 4)\n",
      "Size of testing set (X_test): (400, 4)\n",
      "Size of training set (y_train): (1600,)\n",
      "Size of testing set (y_test): (400,)\n"
     ]
    }
   ],
   "source": [
    "from sklearn.model_selection import train_test_split\n",
    "\n",
    "# Split the data into training (80%) and testing (20%) sets\n",
    "X_train, X_test, y_train, y_test = train_test_split(X, y_log, test_size=0.2, random_state=42)\n",
    "\n",
    "# Print the sizes of the training and testing sets\n",
    "print(\"Size of training set (X_train):\", X_train.shape)\n",
    "print(\"Size of testing set (X_test):\", X_test.shape)\n",
    "print(\"Size of training set (y_train):\", y_train.shape)\n",
    "print(\"Size of testing set (y_test):\", y_test.shape)\n",
    "\n"
   ]
  },
  {
   "cell_type": "markdown",
   "metadata": {
    "id": "FZe1eoav13IA"
   },
   "source": [
    "    19- Use Pipeline class with the cross-validation to fit the scaling on only the training dataset and evaluate the linear regression model, (Use k=10 and MSE as your metric)( 2 point)\n",
    "\n",
    "        * 'neg_mean_squared_error' returns the negated value of the MSE; make sure to take the absolute to get the positive one (1 point)\n",
    "        * print the average MSE (1 point)"
   ]
  },
  {
   "cell_type": "code",
   "execution_count": 27,
   "metadata": {
    "id": "ubV5evkp13IA"
   },
   "outputs": [
    {
     "name": "stdout",
     "output_type": "stream",
     "text": [
      "Average MSE (Mean Squared Error) from 10-fold cross-validation: 1.2696532496922268\n"
     ]
    }
   ],
   "source": [
    "# writer your code here:\n",
    "\n",
    "from sklearn.pipeline import Pipeline\n",
    "from sklearn.model_selection import cross_val_score\n",
    "from sklearn.preprocessing import StandardScaler\n",
    "from sklearn.linear_model import LinearRegression\n",
    "from sklearn.metrics import make_scorer, mean_squared_error\n",
    "\n",
    "# Create a pipeline with scaling and linear regression\n",
    "pipeline = Pipeline([\n",
    "    ('scaler', StandardScaler()),  # Standardize features\n",
    "    ('regressor', LinearRegression())  # Linear regression model\n",
    "])\n",
    "\n",
    "# Define the metric as neg_mean_squared_error (we will convert to positive later)\n",
    "mse_scorer = make_scorer(mean_squared_error, greater_is_better=False)\n",
    "\n",
    "# Perform k-fold cross-validation (k=10) and calculate MSE\n",
    "mse_scores = -cross_val_score(pipeline, X_train, y_train, cv=10, scoring=mse_scorer)\n",
    "\n",
    "# Calculate the average MSE\n",
    "average_mse = mse_scores.mean()\n",
    "\n",
    "# Print the average MSE\n",
    "print(\"Average MSE (Mean Squared Error) from 10-fold cross-validation:\", average_mse)\n"
   ]
  },
  {
   "cell_type": "markdown",
   "metadata": {
    "id": "b73aw1qi13IA"
   },
   "source": [
    "    20- Hyperparameters tuning using GridSearchCV (Use k=10 and MSE as your metric):\n",
    "\n",
    "        A. Ridge regression:\n",
    "            * Find out the best value of α’s (-3, -2, 1, 2, 3) for Ridge regression (1 point)\n",
    "            * print the best score and the best alpha value (1 point)"
   ]
  },
  {
   "cell_type": "code",
   "execution_count": 28,
   "metadata": {
    "id": "1XaXrcE113IA"
   },
   "outputs": [
    {
     "name": "stdout",
     "output_type": "stream",
     "text": [
      "Best Score (MSE) from Ridge regression: 1.2693967501659307\n",
      "Best Alpha Value for Ridge regression: 100\n"
     ]
    }
   ],
   "source": [
    "# write your code here:\n",
    "\n",
    "from sklearn.model_selection import GridSearchCV\n",
    "from sklearn.linear_model import Ridge\n",
    "\n",
    "# Define the hyperparameter grid for alpha values\n",
    "param_grid = {'alpha': [10**-3, 10**-2, 10**-1, 10**0, 10**1, 10**2, 10**3]}\n",
    "\n",
    "# Create a Ridge regression model\n",
    "ridge_model = Ridge()\n",
    "\n",
    "# Create a GridSearchCV object with k=10 and MSE as the scoring metric\n",
    "grid_search = GridSearchCV(ridge_model, param_grid, cv=10, scoring='neg_mean_squared_error')\n",
    "\n",
    "# Fit the grid search to the training data\n",
    "grid_search.fit(X_train, y_train)\n",
    "\n",
    "# Get the best score and best alpha value\n",
    "best_score = -grid_search.best_score_  # Convert to positive for MSE\n",
    "best_alpha = grid_search.best_params_['alpha']\n",
    "\n",
    "# Print the best score and best alpha value\n",
    "print(\"Best Score (MSE) from Ridge regression:\", best_score)\n",
    "print(\"Best Alpha Value for Ridge regression:\", best_alpha)\n"
   ]
  },
  {
   "cell_type": "markdown",
   "metadata": {
    "id": "1rRFGs3a13IA"
   },
   "source": [
    "        B. Lasso:\n",
    "            * Find out the best value of α’s (-3, -2, 1, 2, 3) for Lasso method. (1 point)\n",
    "            * print the best score and the best alpha value (1 point)"
   ]
  },
  {
   "cell_type": "code",
   "execution_count": 29,
   "metadata": {
    "id": "aofLi-aq13IB"
   },
   "outputs": [
    {
     "name": "stdout",
     "output_type": "stream",
     "text": [
      "Best Score (MSE) from Lasso regression: 1.2695271462164206\n",
      "Best Alpha Value for Lasso regression: 0.01\n"
     ]
    }
   ],
   "source": [
    "# write your code here:\n",
    "\n",
    "from sklearn.linear_model import Lasso\n",
    "\n",
    "# Create a Lasso regression model\n",
    "lasso_model = Lasso()\n",
    "\n",
    "# Define the hyperparameter grid for alpha values\n",
    "param_grid = {'alpha': [10**-3, 10**-2, 10**-1, 10**0, 10**1, 10**2, 10**3]}\n",
    "\n",
    "# Create a GridSearchCV object with k=10 and MSE as the scoring metric\n",
    "grid_search = GridSearchCV(lasso_model, param_grid, cv=10, scoring='neg_mean_squared_error')\n",
    "\n",
    "# Fit the grid search to the training data\n",
    "grid_search.fit(X_train, y_train)\n",
    "\n",
    "# Get the best score and best alpha value\n",
    "best_score = -grid_search.best_score_  # Convert to positive for MSE\n",
    "best_alpha = grid_search.best_params_['alpha']\n",
    "\n",
    "# Print the best score and best alpha value\n",
    "print(\"Best Score (MSE) from Lasso regression:\", best_score)\n",
    "print(\"Best Alpha Value for Lasso regression:\", best_alpha)\n"
   ]
  },
  {
   "cell_type": "markdown",
   "metadata": {
    "id": "ga1vBFZU13IB"
   },
   "source": [
    "#### Robust regression"
   ]
  },
  {
   "cell_type": "markdown",
   "metadata": {
    "id": "F_e8kUGW13IB"
   },
   "source": [
    "      21- Use Pipeline class with the cross-validation with k= 10 to fit the scaling on only the training dataset, and evaluate the models using 'neg_mean_squared_error':\n",
    "    \n",
    "            A.  The Huber regression model module ( 1 points)\n",
    "                * print the absolute average MSE (1 point)"
   ]
  },
  {
   "cell_type": "code",
   "execution_count": 30,
   "metadata": {
    "id": "NAXOVc_Q13IB"
   },
   "outputs": [
    {
     "name": "stdout",
     "output_type": "stream",
     "text": [
      "Absolute Average MSE (Mean Squared Error) from Huber regression: 1.6378851316174736\n"
     ]
    }
   ],
   "source": [
    "# write your code here:\n",
    "\n",
    "from sklearn.linear_model import HuberRegressor\n",
    "from sklearn.metrics import make_scorer, mean_squared_error\n",
    "\n",
    "# Create a pipeline with scaling and Huber regression\n",
    "huber_pipeline = Pipeline([\n",
    "    ('scaler', StandardScaler()),  # Standardize features\n",
    "    ('regressor', HuberRegressor())  # Huber regression model\n",
    "])\n",
    "\n",
    "# Define the scoring metric as neg_mean_squared_error\n",
    "mse_scorer = make_scorer(mean_squared_error, greater_is_better=False)\n",
    "\n",
    "# Perform k-fold cross-validation (k=10) and calculate MSE\n",
    "huber_mse_scores = -cross_val_score(huber_pipeline, X_train, y_train, cv=10, scoring=mse_scorer)\n",
    "\n",
    "# Calculate the absolute average MSE\n",
    "absolute_average_mse = np.abs(huber_mse_scores.mean())\n",
    "\n",
    "# Print the absolute average MSE\n",
    "print(\"Absolute Average MSE (Mean Squared Error) from Huber regression:\", absolute_average_mse)\n"
   ]
  },
  {
   "cell_type": "markdown",
   "metadata": {
    "id": "By5bWePS13IB"
   },
   "source": [
    "        B.  The RANSAC regression model modle ( 1 point)\n",
    "            * print the absolute avarge MSE (1 point)"
   ]
  },
  {
   "cell_type": "code",
   "execution_count": 31,
   "metadata": {
    "id": "VWyKds4g13IB"
   },
   "outputs": [
    {
     "name": "stdout",
     "output_type": "stream",
     "text": [
      "Absolute Average MSE (Mean Squared Error) from RANSAC regression: 13.374077796842453\n"
     ]
    }
   ],
   "source": [
    "# write your code here:\n",
    "\n",
    "from sklearn.linear_model import RANSACRegressor\n",
    "\n",
    "# Create a pipeline with scaling and RANSAC regression\n",
    "ransac_pipeline = Pipeline([\n",
    "    ('scaler', StandardScaler()),  # Standardize features\n",
    "    ('regressor', RANSACRegressor())  # RANSAC regression model\n",
    "])\n",
    "\n",
    "# Perform k-fold cross-validation (k=10) and calculate MSE\n",
    "ransac_mse_scores = -cross_val_score(ransac_pipeline, X_train, y_train, cv=10, scoring=mse_scorer)\n",
    "\n",
    "# Calculate the absolute average MSE\n",
    "absolute_average_mse_ransac = np.abs(ransac_mse_scores.mean())\n",
    "\n",
    "# Print the absolute average MSE\n",
    "print(\"Absolute Average MSE (Mean Squared Error) from RANSAC regression:\", absolute_average_mse_ransac)\n"
   ]
  },
  {
   "cell_type": "markdown",
   "metadata": {
    "id": "UpBaoPEl13IB"
   },
   "source": [
    "    22- From the above models you validated using cross-validation, which model performed very well on average? (1 point)         \n",
    "\n",
    "##### Write your answer here:\n",
    "\n",
    "--Ridge and Lasso Regression models have the lowest average MSE values, which suggests that they performed well on average. \n",
    "\n",
    "\n",
    "--"
   ]
  },
  {
   "cell_type": "markdown",
   "metadata": {
    "id": "LsyZOP3R13IC"
   },
   "source": [
    "    23- Use the Best model to build/fit your final model using your train-data.(5 points)"
   ]
  },
  {
   "cell_type": "code",
   "execution_count": 32,
   "metadata": {
    "id": "ayCJZr-n13IC"
   },
   "outputs": [
    {
     "data": {
      "text/html": [
       "<style>#sk-container-id-1 {color: black;background-color: white;}#sk-container-id-1 pre{padding: 0;}#sk-container-id-1 div.sk-toggleable {background-color: white;}#sk-container-id-1 label.sk-toggleable__label {cursor: pointer;display: block;width: 100%;margin-bottom: 0;padding: 0.3em;box-sizing: border-box;text-align: center;}#sk-container-id-1 label.sk-toggleable__label-arrow:before {content: \"▸\";float: left;margin-right: 0.25em;color: #696969;}#sk-container-id-1 label.sk-toggleable__label-arrow:hover:before {color: black;}#sk-container-id-1 div.sk-estimator:hover label.sk-toggleable__label-arrow:before {color: black;}#sk-container-id-1 div.sk-toggleable__content {max-height: 0;max-width: 0;overflow: hidden;text-align: left;background-color: #f0f8ff;}#sk-container-id-1 div.sk-toggleable__content pre {margin: 0.2em;color: black;border-radius: 0.25em;background-color: #f0f8ff;}#sk-container-id-1 input.sk-toggleable__control:checked~div.sk-toggleable__content {max-height: 200px;max-width: 100%;overflow: auto;}#sk-container-id-1 input.sk-toggleable__control:checked~label.sk-toggleable__label-arrow:before {content: \"▾\";}#sk-container-id-1 div.sk-estimator input.sk-toggleable__control:checked~label.sk-toggleable__label {background-color: #d4ebff;}#sk-container-id-1 div.sk-label input.sk-toggleable__control:checked~label.sk-toggleable__label {background-color: #d4ebff;}#sk-container-id-1 input.sk-hidden--visually {border: 0;clip: rect(1px 1px 1px 1px);clip: rect(1px, 1px, 1px, 1px);height: 1px;margin: -1px;overflow: hidden;padding: 0;position: absolute;width: 1px;}#sk-container-id-1 div.sk-estimator {font-family: monospace;background-color: #f0f8ff;border: 1px dotted black;border-radius: 0.25em;box-sizing: border-box;margin-bottom: 0.5em;}#sk-container-id-1 div.sk-estimator:hover {background-color: #d4ebff;}#sk-container-id-1 div.sk-parallel-item::after {content: \"\";width: 100%;border-bottom: 1px solid gray;flex-grow: 1;}#sk-container-id-1 div.sk-label:hover label.sk-toggleable__label {background-color: #d4ebff;}#sk-container-id-1 div.sk-serial::before {content: \"\";position: absolute;border-left: 1px solid gray;box-sizing: border-box;top: 0;bottom: 0;left: 50%;z-index: 0;}#sk-container-id-1 div.sk-serial {display: flex;flex-direction: column;align-items: center;background-color: white;padding-right: 0.2em;padding-left: 0.2em;position: relative;}#sk-container-id-1 div.sk-item {position: relative;z-index: 1;}#sk-container-id-1 div.sk-parallel {display: flex;align-items: stretch;justify-content: center;background-color: white;position: relative;}#sk-container-id-1 div.sk-item::before, #sk-container-id-1 div.sk-parallel-item::before {content: \"\";position: absolute;border-left: 1px solid gray;box-sizing: border-box;top: 0;bottom: 0;left: 50%;z-index: -1;}#sk-container-id-1 div.sk-parallel-item {display: flex;flex-direction: column;z-index: 1;position: relative;background-color: white;}#sk-container-id-1 div.sk-parallel-item:first-child::after {align-self: flex-end;width: 50%;}#sk-container-id-1 div.sk-parallel-item:last-child::after {align-self: flex-start;width: 50%;}#sk-container-id-1 div.sk-parallel-item:only-child::after {width: 0;}#sk-container-id-1 div.sk-dashed-wrapped {border: 1px dashed gray;margin: 0 0.4em 0.5em 0.4em;box-sizing: border-box;padding-bottom: 0.4em;background-color: white;}#sk-container-id-1 div.sk-label label {font-family: monospace;font-weight: bold;display: inline-block;line-height: 1.2em;}#sk-container-id-1 div.sk-label-container {text-align: center;}#sk-container-id-1 div.sk-container {/* jupyter's `normalize.less` sets `[hidden] { display: none; }` but bootstrap.min.css set `[hidden] { display: none !important; }` so we also need the `!important` here to be able to override the default hidden behavior on the sphinx rendered scikit-learn.org. See: https://github.com/scikit-learn/scikit-learn/issues/21755 */display: inline-block !important;position: relative;}#sk-container-id-1 div.sk-text-repr-fallback {display: none;}</style><div id=\"sk-container-id-1\" class=\"sk-top-container\"><div class=\"sk-text-repr-fallback\"><pre>Ridge(alpha=100)</pre><b>In a Jupyter environment, please rerun this cell to show the HTML representation or trust the notebook. <br />On GitHub, the HTML representation is unable to render, please try loading this page with nbviewer.org.</b></div><div class=\"sk-container\" hidden><div class=\"sk-item\"><div class=\"sk-estimator sk-toggleable\"><input class=\"sk-toggleable__control sk-hidden--visually\" id=\"sk-estimator-id-1\" type=\"checkbox\" checked><label for=\"sk-estimator-id-1\" class=\"sk-toggleable__label sk-toggleable__label-arrow\">Ridge</label><div class=\"sk-toggleable__content\"><pre>Ridge(alpha=100)</pre></div></div></div></div></div>"
      ],
      "text/plain": [
       "Ridge(alpha=100)"
      ]
     },
     "execution_count": 32,
     "metadata": {},
     "output_type": "execute_result"
    }
   ],
   "source": [
    "# write your code here:\n",
    "\n",
    "# Define the best alpha value obtained during hyperparameter tuning (e.g., best_alpha = 100 for Ridge)\n",
    "best_alpha = 100\n",
    "\n",
    "# Create the final Ridge regression model with the best alpha value\n",
    "final_ridge_model = Ridge(alpha=best_alpha)\n",
    "\n",
    "# Fit the final model to the entire training dataset\n",
    "final_ridge_model.fit(X_train, y_train)\n",
    "\n",
    "# Optionally, you can evaluate the model on the testing dataset if needed\n",
    "# y_pred = final_ridge_model.predict(X_test)\n",
    "# final_mse = mean_squared_error(y_test, y_pred)\n",
    "# print(\"Final MSE on Testing Data:\", final_mse)\n",
    "\n"
   ]
  },
  {
   "cell_type": "markdown",
   "metadata": {
    "id": "LcOs3djI13IC"
   },
   "source": [
    "    24- Predict the number of likes for test data and compute the MSE (5 points)"
   ]
  },
  {
   "cell_type": "code",
   "execution_count": 36,
   "metadata": {
    "id": "xxs-tNOr13IC"
   },
   "outputs": [
    {
     "name": "stdout",
     "output_type": "stream",
     "text": [
      "MSE on Testing Data: 1.3010237753960114\n"
     ]
    },
    {
     "data": {
      "text/plain": [
       "array([4.73590557, 4.43121485, 6.6357738 , 4.46123386, 4.56145239,\n",
       "       4.67424602, 4.34644873, 4.45617834, 5.03810155, 6.55078107,\n",
       "       4.99578994, 4.60656984, 4.55530001, 4.9531038 , 4.54278862,\n",
       "       4.67284284, 4.4330352 , 4.78695388, 4.77347814, 4.45034785,\n",
       "       4.47390424, 4.35429794, 4.50979703, 4.54402065, 4.84704939,\n",
       "       5.16228108, 4.58401112, 4.34679053, 4.41994766, 4.7450213 ,\n",
       "       4.43753839, 4.34644873, 4.52413436, 4.42131485, 4.54402065,\n",
       "       4.55017303, 5.81236086, 4.61028199, 4.52317092, 4.621573  ,\n",
       "       5.10147901, 4.31530905, 4.62496717, 5.131474  , 6.28707527,\n",
       "       4.34508154, 4.5855373 , 4.42762622, 5.05345868, 5.94266895,\n",
       "       6.33344082, 4.58058096, 5.09764601, 4.51598097, 4.42165665,\n",
       "       4.47361008, 6.36362605, 4.51563917, 5.70797827, 4.52025372,\n",
       "       6.77882905, 4.80276111, 5.19527354, 4.54538784, 4.38375636,\n",
       "       4.56239859, 4.42234025, 6.63976279, 5.01201348, 6.82029807,\n",
       "       5.17364621, 4.52453811, 6.31012172, 4.51701854, 4.49801297,\n",
       "       4.45686194, 5.6564893 , 4.41994766, 4.51941113, 4.78788223,\n",
       "       5.19982838, 4.34508154, 6.78463963, 6.65966808, 4.5088032 ,\n",
       "       6.91520856, 4.55154022, 4.56965556, 4.74568198, 4.83340039,\n",
       "       6.67331622, 4.45173495, 4.50401801, 4.78601425, 4.31904502,\n",
       "       4.31781299, 4.68342391, 5.98672502, 6.46572265, 4.84035311,\n",
       "       4.34644873, 4.42439104, 4.54265345, 6.79689018, 4.55562964,\n",
       "       4.34542334, 4.62935303, 4.61833782, 4.94251098, 4.43293602,\n",
       "       4.53043623, 4.44968416, 4.51052436, 4.40865613, 4.50705873,\n",
       "       4.52453811, 4.55853519, 4.44195796, 4.50642277, 5.93362319,\n",
       "       4.62722128, 4.50334658, 4.55222382, 4.57444075, 4.53069049,\n",
       "       6.35997547, 4.55290742, 4.43427939, 5.91489962, 4.51736034,\n",
       "       4.79052194, 4.78076157, 4.574433  , 4.50089204, 4.34508154,\n",
       "       5.68279831, 4.32642942, 4.3042125 , 5.57837583, 6.42769838,\n",
       "       5.08303747, 4.81472535, 4.35874132, 4.34508154, 6.22422241,\n",
       "       4.50089204, 4.89540175, 4.67472299, 4.54708467, 5.01935025,\n",
       "       4.59118889, 4.34644873, 4.63761335, 4.58196032, 4.81540895,\n",
       "       5.2345215 , 4.5131968 , 4.54743864, 4.9573435 , 4.92630683,\n",
       "       4.54060176, 4.35173471, 5.09380045, 4.57444075, 4.34996591,\n",
       "       5.11696955, 4.815347  , 6.14043443, 4.50435981, 4.40660533,\n",
       "       4.55598361, 4.78818943, 4.72777386, 4.29188392, 4.53684287,\n",
       "       6.59070008, 4.43990716, 6.81869385, 4.34542334, 4.43054342,\n",
       "       4.67732221, 4.43990716, 4.84297556, 5.59758979, 4.42694263,\n",
       "       4.49149497, 4.95108101, 4.45720374, 5.71821883, 5.95587825,\n",
       "       4.63556256, 4.65338412, 6.62959103, 4.56412698, 4.84234821,\n",
       "       4.55188202, 4.55188202, 4.34508154, 4.87546606, 6.74674103,\n",
       "       4.75977667, 4.50020844, 4.8597189 , 4.63768481, 4.53752647,\n",
       "       4.55460425, 6.80039571, 6.7482473 , 4.52009473, 4.58536614,\n",
       "       4.48147146, 5.07802056, 4.72017007, 4.40592174, 4.48841878,\n",
       "       4.83748296, 4.56247779, 4.51341774, 4.54486324, 6.44678021,\n",
       "       4.34644873, 4.46573654, 4.52584336, 4.5600852 , 4.75491055,\n",
       "       4.33340057, 4.39394661, 5.15562791, 4.44524077, 4.53069049,\n",
       "       4.72247776, 4.54159207, 4.40044079, 6.73893386, 4.48386405,\n",
       "       4.50129579, 4.47121749, 4.42762622, 6.84207135, 4.5121714 ,\n",
       "       4.47463548, 6.04792779, 4.50396823, 4.63421624, 6.76875132,\n",
       "       5.01201348, 4.34508154, 4.32043603, 4.42694263, 5.02083007,\n",
       "       4.42541644, 4.75571715, 4.55085663, 4.56999736, 4.53130263,\n",
       "       4.52948229, 4.52310897, 4.31628681, 6.35572551, 4.59049313,\n",
       "       4.99494735, 4.48295   , 4.60874364, 6.4973634 , 4.49240902,\n",
       "       6.7618582 , 4.51307594, 5.02090025, 4.48435267, 4.51667674,\n",
       "       6.87467741, 4.40490025, 4.57444075, 5.27348353, 4.8477137 ,\n",
       "       4.7084098 , 4.95145489, 4.40691115, 6.65331298, 4.52760213,\n",
       "       4.43012191, 5.11696955, 4.45221192, 6.56673817, 4.95092029,\n",
       "       5.10589858, 4.79471821, 4.66604285, 4.99358016, 5.04682933,\n",
       "       4.68158278, 6.07602942, 4.64582907, 6.23996898, 4.90214832,\n",
       "       4.42541644, 4.69675711, 4.68518358, 4.36438517, 4.54231165,\n",
       "       4.79079522, 5.00160052, 4.30694689, 4.97235226, 4.41994766,\n",
       "       4.40211431, 4.58161852, 6.69473045, 4.34644873, 4.75866944,\n",
       "       4.54778044, 5.79581934, 5.89202381, 4.34679053, 4.54402065,\n",
       "       4.58264392, 6.58879486, 6.28673347, 4.74226399, 6.21535946,\n",
       "       4.75816865, 4.57922593, 5.06150286, 4.801737  , 4.42439104,\n",
       "       4.5138804 , 4.69824398, 4.6894715 , 5.36481705, 4.8694214 ,\n",
       "       4.54607144, 4.56894991, 6.71292676, 4.42507464, 4.50027039,\n",
       "       4.4691667 , 4.51804393, 4.71355289, 4.55530001, 4.47805347,\n",
       "       4.55015312, 4.73026505, 4.43929893, 4.34508154, 4.50670262,\n",
       "       6.16396877, 4.50608097, 4.80289753, 6.37071031, 5.78055925,\n",
       "       4.80610536, 4.57033916, 5.32977075, 5.94369435, 5.09482585,\n",
       "       4.76655425, 4.62955016, 4.47805347, 6.64187197, 5.60264407,\n",
       "       4.57307355, 4.47258468, 4.42660083, 4.43581723, 4.70030722,\n",
       "       4.48521907, 4.52212118, 4.46146431, 5.72496993, 4.64620634,\n",
       "       6.50214859, 4.70288567, 4.9300437 , 4.39600957, 4.7982302 ,\n",
       "       6.14764729, 4.5833037 , 4.40318735, 5.02290427, 4.83217317,\n",
       "       5.1271997 , 4.42097306, 4.5528836 , 4.47496511, 5.07902988,\n",
       "       4.36466326, 4.49713225, 4.5562656 , 5.34250741, 6.26554194,\n",
       "       4.40865613, 4.45617834, 4.55017303, 4.77414528, 4.50191744,\n",
       "       4.34679053, 4.44829315, 4.47361008, 4.64226375, 4.50225924])"
      ]
     },
     "execution_count": 36,
     "metadata": {},
     "output_type": "execute_result"
    }
   ],
   "source": [
    "# write your code here:\n",
    "\n",
    "# Use the final Ridge regression model to make predictions on the test data\n",
    "y_pred_test = final_ridge_model.predict(X_test)\n",
    "\n",
    "# Calculate the Mean Squared Error (MSE) for the predictions on the test data\n",
    "mse_test = mean_squared_error(y_test, y_pred_test)\n",
    "\n",
    "# Print the MSE on the test data\n",
    "print(\"MSE on Testing Data:\", mse_test)\n",
    "\n",
    "\n",
    "y_pred_test\n"
   ]
  },
  {
   "cell_type": "markdown",
   "metadata": {
    "id": "bFQ5dyIR13IC"
   },
   "source": [
    "    25- Write a conclusion about building a good model for predicting the number of likes using Instagram Users Datetime Posts. (10 points)\n",
    "\n",
    "       your conclusion should include:\n",
    "        * why a specific model performs better than other models and why a regression algorithm works well with this dataset.\n",
    "        * Did Robust regression algorithms outperformance the linear regression baseline or linear regression after applying Shrinkage Methods? Why?\n",
    "\n",
    "    Write a summary of what you understand about linear regression and cross-validation."
   ]
  },
  {
   "cell_type": "markdown",
   "metadata": {
    "id": "RcEWfFvz13IC"
   },
   "source": [
    "-- Building a good model for predicting the number of likes using Instagram Users' DateTime Posts involves several key considerations like choice of regression algorithm, model performance, and the impact of robust regression techniques.\n",
    "\n",
    "-- In our analysis, Ridge and Lasso regressions emerged as strong candidates for predicting likes. These regularization-based algorithms perform well because they can handle multicollinearity in the dataset effectively.\n",
    "\n",
    "-- we observed that robust regression techniques like Huber and RANSAC had higher average MSE values compared to Ridge and Lasso regression. This outcome suggests that, in this specific dataset, the robustness to outliers provided by Huber and RANSAC may not have been necessary, and the regularization-based Ridge and Lasso models performed better overall.\n",
    "\n",
    "--Linear Regression: Linear regression is a powerful and interpretable tool for modeling the relationship between one or more independent variables and a dependent variable. It assumes a linear relationship and aims to minimize the sum of squared differences between observed and predicted values.\n",
    "\n",
    "--Cross-Validation: Cross-validation is a crucial technique for assessing a model's performance and generalization capability. In our analysis, we used k-fold cross-validation (k=10) to evaluate different regression models. It involves splitting the data into training and testing subsets multiple times and calculating performance metrics on each fold. This helps in estimating how the model is likely to perform on unseen data and aids in model selection and hyperparameter tuning.\n",
    "\n"
   ]
  },
  {
   "cell_type": "markdown",
   "metadata": {
    "id": "zM8jY2rp13ID"
   },
   "source": [
    "---\n",
    "## All set\n",
    "\n",
    "Please make sure you execute each cell before you submit your file; this is important becuse if your code didn't work on our machine for an unknown reason, it would be better to see the result rather than losing some points or wasting time to contact you to fix this issue.\n",
    "\n",
    "What to submit:\n",
    "\n",
    "* Your Jupyter Notebook file.\n",
    "* Name your file as firstname_lastname_pj_1 .\n",
    "---"
   ]
  }
 ],
 "metadata": {
  "colab": {
   "provenance": []
  },
  "interpreter": {
   "hash": "9be90a182e443121e767cfcadea61fa0eeced8ec62a9bd8ae9861f6c1d839655"
  },
  "kernelspec": {
   "display_name": "Python 3 (ipykernel)",
   "language": "python",
   "name": "python3"
  },
  "language_info": {
   "codemirror_mode": {
    "name": "ipython",
    "version": 3
   },
   "file_extension": ".py",
   "mimetype": "text/x-python",
   "name": "python",
   "nbconvert_exporter": "python",
   "pygments_lexer": "ipython3",
   "version": "3.10.9"
  }
 },
 "nbformat": 4,
 "nbformat_minor": 1
}
